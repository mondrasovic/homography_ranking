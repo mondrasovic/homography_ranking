{
 "cells": [
  {
   "cell_type": "code",
   "execution_count": 2,
   "metadata": {
    "collapsed": true,
    "pycharm": {
     "name": "#%%\n"
    }
   },
   "outputs": [
    {
     "name": "stdout",
     "output_type": "stream",
     "text": [
      "The autoreload extension is already loaded. To reload it, use:\n",
      "  %reload_ext autoreload\n"
     ]
    }
   ],
   "source": [
    "# -*- coding: utf-8 -*-\n",
    "#\n",
    "# Author: Milan Ondrasovic <milan.ondrasovic@gmail.com>\n",
    "#\n",
    "# MIT License\n",
    "#\n",
    "# Copyright (c) 2021 Milan Ondrašovič\n",
    "#\n",
    "# Permission is hereby granted, free of charge, to any person obtaining a copy\n",
    "# of this software and associated documentation files (the \"Software\"), to deal\n",
    "# in the Software without restriction, including without limitation the rights\n",
    "# to use, copy, modify, merge, publish, distribute, sublicense, and/or sell\n",
    "# copies of the Software, and to permit persons to whom the Software is\n",
    "# furnished to do so, subject to the following conditions:\n",
    "#\n",
    "# The above copyright notice and this permission notice shall be included in all\n",
    "# copies or substantial portions of the Software.\n",
    "#\n",
    "# THE SOFTWARE IS PROVIDED \"AS IS\", WITHOUT WARRANTY OF ANY KIND, EXPRESS OR\n",
    "# IMPLIED, INCLUDING BUT NOT LIMITED TO THE WARRANTIES OF MERCHANTABILITY,\n",
    "# FITNESS FOR A PARTICULAR PURPOSE AND NONINFRINGEMENT. IN NO EVENT SHALL THE\n",
    "# AUTHORS OR COPYRIGHT HOLDERS BE LIABLE FOR ANY CLAIM, DAMAGES OR OTHER\n",
    "# LIABILITY, WHETHER IN AN ACTION OF CONTRACT, TORT OR OTHERWISE, ARISING FROM,\n",
    "# OUT OF OR IN CONNECTION WITH THE SOFTWARE OR THE USE OR OTHER DEALINGS IN THE\n",
    "# SOFTWARE.\n",
    "\n",
    "import numpy as np\n",
    "import cv2 as cv\n",
    "\n",
    "%load_ext autoreload\n",
    "%autoreload 2"
   ]
  },
  {
   "cell_type": "code",
   "execution_count": 49,
   "outputs": [
    {
     "name": "stdout",
     "output_type": "stream",
     "text": [
      "[[500 167]\n",
      " [783 450]\n",
      " [500 733]\n",
      " [217 450]]\n"
     ]
    }
   ],
   "source": [
    "x_top = 200\n",
    "y_top = 150\n",
    "side = 200\n",
    "\n",
    "dst_pts = (\n",
    "    (x_top, y_top),\n",
    "    (x_top + side, y_top),\n",
    "    (x_top + side, y_top + side),\n",
    "    (x_top, y_top + side),\n",
    ")\n",
    "\n",
    "dst_pts = np.asarray(dst_pts, dtype=np.int32)\n",
    "\n",
    "def to_homogeneous(pts):\n",
    "    return np.squeeze(cv.convertPointsToHomogeneous(pts)).T\n",
    "\n",
    "def from_homogeneous(pts):\n",
    "    return np.squeeze(cv.convertPointsFromHomogeneous(pts.T))\n",
    "\n",
    "def affine_transform(pts, theta, t_x, t_y, s_x, s_y):\n",
    "    c_x, c_y = pts.mean(axis=0)[:2]\n",
    "\n",
    "    center = np.float32((\n",
    "        (1, 0, -c_x),\n",
    "        (0, 1, -c_y),\n",
    "        (0, 0, 1)\n",
    "    ))\n",
    "    uncenter = np.float32((\n",
    "        (1, 0, c_x),\n",
    "        (0, 1, c_y),\n",
    "        (0, 0, 1)\n",
    "    ))\n",
    "\n",
    "    rot = np.float32((\n",
    "        (np.cos(theta), -np.sin(theta), 0),\n",
    "        (np.sin(theta), np.cos(theta),  0),\n",
    "        (0,             0,              1)\n",
    "    ))\n",
    "    transl = np.float32((\n",
    "        (1, 0, t_x),\n",
    "        (0, 1, t_y),\n",
    "        (0, 0, 1)\n",
    "    ))\n",
    "    scale = np.float32((\n",
    "        (s_x, 0,   0),\n",
    "        (0,   s_y, 0),\n",
    "        (0,   0,   1)\n",
    "    ))\n",
    "\n",
    "    affine = transl @ uncenter @ scale @ rot @ center\n",
    "    return from_homogeneous(affine @ to_homogeneous(pts))\n",
    "\n",
    "src_pts = dst_pts.copy()\n",
    "src_pts = affine_transform(src_pts, np.radians(45), 200, 200, 2, 2)\n",
    "src_pts = src_pts.round().astype(np.int)\n",
    "print(src_pts)\n",
    "\n",
    "def draw_points(\n",
    "        img, pts, line_color=(255, 255, 255), thickness=2,\n",
    "        point_color=(255, 255, 255)):\n",
    "    cv.polylines(\n",
    "        img, [np.expand_dims(pts, axis=1)], isClosed=True,\n",
    "        color=line_color, thickness=thickness, lineType=cv.LINE_AA)\n",
    "    for pt in np.squeeze(pts):\n",
    "        cv.circle(img, tuple(pt), radius=thickness * 3, color=point_color,\n",
    "                  thickness=-1, lineType=cv.LINE_AA)\n",
    "\n",
    "img_width = 800\n",
    "img_height = 600\n",
    "\n",
    "# src_pts = src_pts[np.random.permutation(len(src_pts))]\n",
    "affine_mtx, _ = cv.estimateAffine2D(src_pts, dst_pts)\n",
    "affine_mtx = np.concatenate((affine_mtx, [(0, 0, 1)]))\n",
    "\n",
    "src_pts_t = from_homogeneous(affine_mtx @ to_homogeneous(src_pts))\n",
    "src_pts_t = src_pts_t.round().astype(np.int)\n",
    "\n",
    "img = np.zeros((img_height, img_width, 3), dtype=np.uint8)\n",
    "draw_points(img, dst_pts, line_color=(0, 255, 0), thickness=10)\n",
    "draw_points(img, src_pts, line_color=(255, 0, 0))\n",
    "draw_points(img, src_pts_t, line_color=(0, 0, 255))\n",
    "cv.imshow(\"Preview\", img)\n",
    "cv.waitKey(0)\n",
    "cv.destroyAllWindows()"
   ],
   "metadata": {
    "collapsed": false,
    "pycharm": {
     "name": "#%%\n"
    }
   }
  },
  {
   "cell_type": "code",
   "execution_count": 40,
   "outputs": [
    {
     "data": {
      "text/plain": "array([[323, 335],\n       [123, 335],\n       [400, 150],\n       [200, 150]])"
     },
     "execution_count": 40,
     "metadata": {},
     "output_type": "execute_result"
    }
   ],
   "source": [
    "p = np.random.permutation(len(src_pts_t))\n",
    "src_pts_t[p]"
   ],
   "metadata": {
    "collapsed": false,
    "pycharm": {
     "name": "#%%\n"
    }
   }
  },
  {
   "cell_type": "code",
   "execution_count": 42,
   "outputs": [
    {
     "name": "stdout",
     "output_type": "stream",
     "text": [
      "SCORE(SRC, DST) = 297.098891\n",
      "SCORE(SRC_T, DST) = 63.245553\n"
     ]
    }
   ],
   "source": [
    "def print_score(pts_1, pts_2, label_1, label_2):\n",
    "    score = np.mean(np.linalg.norm(pts_1 - pts_2, axis=1))\n",
    "    print(f\"SCORE({label_1}, {label_2}) = {score:.6f}\")\n",
    "\n",
    "print_score(src_pts, dst_pts, \"SRC\", \"DST\")\n",
    "print_score(src_pts_t, dst_pts, \"SRC_T\", \"DST\")"
   ],
   "metadata": {
    "collapsed": false,
    "pycharm": {
     "name": "#%%\n"
    }
   }
  },
  {
   "cell_type": "code",
   "execution_count": 24,
   "outputs": [
    {
     "name": "stdout",
     "output_type": "stream",
     "text": [
      "[[150. 150.]\n",
      " [250. 150.]\n",
      " [250. 250.]\n",
      " [150. 250.]]\n",
      "[[125. 100.]\n",
      " [275. 100.]\n",
      " [275. 300.]\n",
      " [125. 300.]]\n"
     ]
    }
   ],
   "source": [
    "from datagen.transform import Scale\n",
    "from datagen.shape import RectangleGenerator\n",
    "\n",
    "scale = Scale(1.5, 2.0, use_centroid=True)\n",
    "rect_gen = RectangleGenerator(100, 100)\n",
    "center = np.asarray((200, 200))\n",
    "rect = rect_gen.generate_points(center)\n",
    "print(rect)\n",
    "print(scale.transform_points_group(rect))\n",
    "pts = scale.transform_points_group(rect).round().astype(np.int)\n",
    "img = np.zeros((img_height, img_width, 3), dtype=np.uint8)\n",
    "draw_points(img, rect.round().astype(np.int))\n",
    "draw_points(img, pts)\n",
    "cv.imshow(\"Preview\", img)\n",
    "cv.waitKey(0)\n",
    "cv.destroyAllWindows()"
   ],
   "metadata": {
    "collapsed": false,
    "pycharm": {
     "name": "#%%\n"
    }
   }
  },
  {
   "cell_type": "code",
   "execution_count": 52,
   "outputs": [
    {
     "data": {
      "text/plain": "array([[ 0.70710677, -0.70710677, 10.        ],\n       [ 0.70710677,  0.70710677, 10.        ],\n       [ 0.        ,  0.        ,  1.        ]], dtype=float32)"
     },
     "execution_count": 52,
     "metadata": {},
     "output_type": "execute_result"
    }
   ],
   "source": [
    "def create_similarity_transform(theta, t_x, t_y, s):\n",
    "    rot = np.float32((\n",
    "        (np.cos(theta), -np.sin(theta), 0),\n",
    "        (np.sin(theta), np.cos(theta),  0),\n",
    "        (0,             0,              1)\n",
    "    ))\n",
    "    transl = np.float32((\n",
    "        (1, 0, t_x),\n",
    "        (0, 1, t_y),\n",
    "        (0, 0, 1)\n",
    "    ))\n",
    "    scale = np.float32((\n",
    "        (s, 0, 0),\n",
    "        (0, s, 0),\n",
    "        (0, 0, 1)\n",
    "    ))\n",
    "\n",
    "    return scale @ transl @ rot\n",
    "\n",
    "mtx = create_similarity_transform(np.radians(45), 10, 10, 1)\n",
    "mtx"
   ],
   "metadata": {
    "collapsed": false,
    "pycharm": {
     "name": "#%%\n"
    }
   }
  },
  {
   "cell_type": "code",
   "execution_count": 37,
   "outputs": [
    {
     "name": "stdout",
     "output_type": "stream",
     "text": [
      "sum of square roots: 666666166.4588418\n"
     ]
    }
   ],
   "source": [
    "import time\n",
    "import math\n",
    "\n",
    "def sum_sqrt(n_iters=1_000_000):\n",
    "    return sum(map(math.sqrt, range(n_iters)))\n",
    "\n",
    "start_time = time.process_time_ns()\n",
    "st = time.time()\n",
    "print(f\"sum of square roots: {sum_sqrt()}\")\n",
    "time.sleep(1)\n",
    "elapsed_time_ns = time.process_time_ns() - start_time\n",
    "elapsed_time = time.time() - st"
   ],
   "metadata": {
    "collapsed": false,
    "pycharm": {
     "name": "#%%\n"
    }
   }
  },
  {
   "cell_type": "code",
   "execution_count": 38,
   "outputs": [
    {
     "data": {
      "text/plain": "(93750000, 1.0923335552215576)"
     },
     "execution_count": 38,
     "metadata": {},
     "output_type": "execute_result"
    }
   ],
   "source": [
    "elapsed_time_ns, elapsed_time"
   ],
   "metadata": {
    "collapsed": false,
    "pycharm": {
     "name": "#%%\n"
    }
   }
  }
 ],
 "metadata": {
  "kernelspec": {
   "name": "python3",
   "language": "python",
   "display_name": "Python 3"
  },
  "language_info": {
   "codemirror_mode": {
    "name": "ipython",
    "version": 2
   },
   "file_extension": ".py",
   "mimetype": "text/x-python",
   "name": "python",
   "nbconvert_exporter": "python",
   "pygments_lexer": "ipython2",
   "version": "2.7.6"
  }
 },
 "nbformat": 4,
 "nbformat_minor": 0
}