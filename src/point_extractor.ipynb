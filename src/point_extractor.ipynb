{
 "cells": [
  {
   "cell_type": "code",
   "execution_count": null,
   "metadata": {},
   "outputs": [],
   "source": [
    "import cv2\n",
    "import numpy as np\n",
    "\n",
    "def mouse_click_event(event, x, y, flags, params):\n",
    "    if event != cv2.EVENT_LBUTTONDOWN:\n",
    "        return\n",
    "    \n",
    "    clicked_points = params\n",
    "    clicked_points.append((x, y))\n",
    "\n",
    "def print_clicked_points(clicked_points):\n",
    "    print('\\n'.join(map(lambda p: str(p) + ',', clicked_points)))\n",
    "\n",
    "image_file_path = '../test_images/markers_warped.jpg'\n",
    "\n",
    "window_name = 'Image preview (q - quit, c - clear, p - print)'\n",
    "clear_points_key = 'c'\n",
    "quit_app_key = 'q'\n",
    "print_points_key = 'p'\n",
    "\n",
    "clicked_points = []\n",
    "\n",
    "cv2.namedWindow(window_name)\n",
    "cv2.setMouseCallback(window_name, mouse_click_event, clicked_points)\n",
    "\n",
    "image_orig = cv2.imread(image_file_path)\n",
    "scale = 0.5\n",
    "new_shape = (int(image_orig.shape[1] * scale), int(image_orig.shape[0] * scale))\n",
    "# image_orig = cv2.resize(image_orig, new_shape)\n",
    "\n",
    "while True:\n",
    "    curr_image = image_orig.copy()\n",
    "    \n",
    "    for clicked_point in clicked_points:\n",
    "        cv2.circle(curr_image, clicked_point, 1, (0, 255, 0), -1)\n",
    "    \n",
    "    cv2.imshow(window_name, curr_image)\n",
    "    \n",
    "    key = cv2.waitKey(10) & 0xff\n",
    "    if key == ord(quit_app_key):\n",
    "        print('exiting...')\n",
    "        break\n",
    "    elif key == ord(clear_points_key):\n",
    "        clicked_points.clear()\n",
    "        print('points cleared...')\n",
    "    elif key == ord(print_points_key):\n",
    "        print('clicked points:')\n",
    "        print_clicked_points(clicked_points)\n",
    "\n",
    "cv2.destroyAllWindows()"
   ]
  }
 ],
 "metadata": {
  "kernelspec": {
   "display_name": "Python 3",
   "language": "python",
   "name": "python3"
  },
  "language_info": {
   "codemirror_mode": {
    "name": "ipython",
    "version": 3
   },
   "file_extension": ".py",
   "mimetype": "text/x-python",
   "name": "python",
   "nbconvert_exporter": "python",
   "pygments_lexer": "ipython3",
   "version": "3.6.8"
  }
 },
 "nbformat": 4,
 "nbformat_minor": 2
}