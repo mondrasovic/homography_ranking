{
 "cells": [
  {
   "cell_type": "code",
   "execution_count": null,
   "metadata": {
    "collapsed": true
   },
   "outputs": [],
   "source": [
    "# -*- coding: utf-8 -*-\n",
    "#\n",
    "# Author: Milan Ondrasovic <milan.ondrasovic@gmail.com>\n",
    "#\n",
    "# MIT License\n",
    "#\n",
    "# Copyright (c) 2021 Milan Ondrašovič\n",
    "#\n",
    "# Permission is hereby granted, free of charge, to any person obtaining a copy\n",
    "# of this software and associated documentation files (the \"Software\"), to deal\n",
    "# in the Software without restriction, including without limitation the rights\n",
    "# to use, copy, modify, merge, publish, distribute, sublicense, and/or sell\n",
    "# copies of the Software, and to permit persons to whom the Software is\n",
    "# furnished to do so, subject to the following conditions:\n",
    "#\n",
    "# The above copyright notice and this permission notice shall be included in all\n",
    "# copies or substantial portions of the Software.\n",
    "#\n",
    "# THE SOFTWARE IS PROVIDED \"AS IS\", WITHOUT WARRANTY OF ANY KIND, EXPRESS OR\n",
    "# IMPLIED, INCLUDING BUT NOT LIMITED TO THE WARRANTIES OF MERCHANTABILITY,\n",
    "# FITNESS FOR A PARTICULAR PURPOSE AND NONINFRINGEMENT. IN NO EVENT SHALL THE\n",
    "# AUTHORS OR COPYRIGHT HOLDERS BE LIABLE FOR ANY CLAIM, DAMAGES OR OTHER\n",
    "# LIABILITY, WHETHER IN AN ACTION OF CONTRACT, TORT OR OTHERWISE, ARISING FROM,\n",
    "# OUT OF OR IN CONNECTION WITH THE SOFTWARE OR THE USE OR OTHER DEALINGS IN THE\n",
    "# SOFTWARE.\n",
    "\n",
    "import pickle\n",
    "import numpy as np\n",
    "import pandas as pd\n",
    "import matplotlib.pyplot as plt\n",
    "\n",
    "import config\n",
    "\n",
    "from stat_plot import plot_improvement_over_baseline_boxes, plot_error_vals_hist\n",
    "\n",
    "plt.style.use('tableau-colorblind10')\n",
    "pd.set_option('display.float_format', lambda x: '%.5f' % x)\n",
    "plt.rcParams['font.family'] = 'Times New Roman'\n",
    "plt.rcParams['font.size'] = 8\n",
    "\n",
    "%matplotlib inline\n",
    "\n",
    "%load_ext autoreload\n",
    "%autoreload 2"
   ]
  },
  {
   "cell_type": "code",
   "execution_count": null,
   "outputs": [],
   "source": [
    "with open(config.RESULTS_FILE_PATH, 'rb') as in_file:\n",
    "    experiment_spec_df, single_homography_df, homography_order_df =\\\n",
    "        pickle.load(in_file)\n",
    "\n",
    "df = experiment_spec_df.merge(\n",
    "    single_homography_df, on='inst_id').merge(\n",
    "    homography_order_df, on='inst_id').sort_values(\n",
    "    ['scenar_id', 'inst_id', 'group_idx'])\n",
    "print(df.shape)\n",
    "df.head(3)"
   ],
   "metadata": {
    "collapsed": false,
    "pycharm": {
     "name": "#%%\n"
    }
   }
  },
  {
   "cell_type": "code",
   "execution_count": null,
   "outputs": [],
   "source": [
    "def calc_relative_improvements(scenar_df, stats_col='mean'):\n",
    "    n_groups = scenar_df['n_groups'].values[0]\n",
    "\n",
    "    error_vals = scenar_df[stats_col].values.reshape(-1, n_groups)\n",
    "    baselines = error_vals.mean(axis=1)[..., None]\n",
    "    groups_orders = np.asarray(\n",
    "        [*scenar_df.groupby('inst_id').head(1)['order'].values])\n",
    "    row_idx = np.arange(0, len(error_vals))\n",
    "    error_vals_ordered = error_vals[row_idx[..., None], groups_orders]\n",
    "    relative_improvements = (baselines - error_vals_ordered) / baselines\n",
    "\n",
    "    return relative_improvements\n",
    "\n",
    "def build_scenario_label(scenar_df_row):\n",
    "    assert len(scenar_df_row) == 1\n",
    "\n",
    "    affine_parts = []\n",
    "    if scenar_df_row['rot'].bool():\n",
    "        affine_parts.append('rotation')\n",
    "    if scenar_df_row['transl'].bool():\n",
    "        affine_parts.append('translation')\n",
    "    if scenar_df_row['scale'].bool():\n",
    "        affine_parts.append('scale')\n",
    "\n",
    "    label = ', '.join(affine_parts) if affine_parts else 'no affine'\n",
    "    if scenar_df_row['noise'].bool():\n",
    "        label += f' + noise'\n",
    "\n",
    "    used_shape = scenar_df_row['shape'].values[0]\n",
    "    if used_shape == 'rectangle':  # A dirty hack!\n",
    "        used_shape = 'square'\n",
    "    label += f' | {used_shape}'\n",
    "\n",
    "    return label"
   ],
   "metadata": {
    "collapsed": false,
    "pycharm": {
     "name": "#%%\n"
    }
   }
  },
  {
   "cell_type": "code",
   "execution_count": null,
   "outputs": [],
   "source": [
    "scenar_g = df.groupby('scenar_id')\n",
    "scenar_g.head(1).iloc[:, [0] + list(range(2, 8))]"
   ],
   "metadata": {
    "collapsed": false,
    "pycharm": {
     "name": "#%%\n"
    }
   }
  },
  {
   "cell_type": "code",
   "execution_count": null,
   "outputs": [],
   "source": [
    "# These groups should be checked manually (for now) in the given table whether\n",
    "# the chosen scenarios that should be evaluated together correspond to the\n",
    "# correct ones.\n",
    "\n",
    "scenario_ids_groups = (\n",
    "    (1, 2, 3, 4), # Change in affine transformations only.\n",
    "    (5, 6), # Change in noise only (all affine transformations included).\n",
    "    (6, 7, 8, 9), # Change in shape only (all affine transformations + noise included)\n",
    "    (10,),\n",
    "    (11,),\n",
    "    (12,),\n",
    "    (13,),\n",
    ")"
   ],
   "metadata": {
    "collapsed": false,
    "pycharm": {
     "name": "#%%\n"
    }
   }
  },
  {
   "cell_type": "code",
   "execution_count": null,
   "outputs": [],
   "source": [
    "def create_subfig_id_label(text):\n",
    "    return \"\\n\" + rf\"$\\bf{{({text})}}$\"\n",
    "\n",
    "# Subfigure suffixes for each scenario group.\n",
    "x_label_suffixes = (\n",
    "    \"\",\n",
    "    \"\",\n",
    "    \"\",\n",
    "    create_subfig_id_label(\"a\"),\n",
    "    create_subfig_id_label(\"b\"),\n",
    "    create_subfig_id_label(\"c\"),\n",
    "    create_subfig_id_label(\"d\")\n",
    ")\n",
    "\n",
    "def print_vals(vals):\n",
    "    return \", \".join(map(lambda x: f\"{x:.2%}\", vals))\n",
    "\n",
    "assert len(scenario_ids_groups) == len(x_label_suffixes)\n",
    "\n",
    "for scenario_ids_group, x_label_suffix in zip(\n",
    "        scenario_ids_groups, x_label_suffixes):\n",
    "    improvements = []\n",
    "    labels = []\n",
    "\n",
    "    for scenar_id in scenario_ids_group:\n",
    "        scenar_df = scenar_g.get_group(scenar_id)\n",
    "        improvement = calc_relative_improvements(scenar_df)\n",
    "        improvements.append(improvement)\n",
    "        labels.append(build_scenario_label(scenar_df[:1]))\n",
    "\n",
    "    tmp = np.asarray(improvements)\n",
    "    print(\"*\" * 80)\n",
    "    print(f\"{' --- '.join(labels)}, markers no.: {tmp.shape[-1]}\".upper())\n",
    "    print(f\"\\tmedian: {print_vals(np.median(tmp, axis=1)[:, 0])}\")\n",
    "    print(f\"\\tmean: {print_vals(np.mean(tmp, axis=1)[:, 0])}\")\n",
    "    print(f\"\\tstdev: {print_vals(np.std(tmp, axis=1)[:, 0])}\")\n",
    "\n",
    "    improvements = np.transpose(np.asarray(improvements), axes=(2, 0, 1))\n",
    "    fig = plot_improvement_over_baseline_boxes(\n",
    "        improvements, labels, x_label_suffix)\n",
    "    scenar_ids_label = \"_\".join(map(str, scenario_ids_group))\n",
    "    fig.savefig(f\"../improvement_plot_{scenar_ids_label}.pdf\", dpi=300)"
   ],
   "metadata": {
    "collapsed": false,
    "pycharm": {
     "name": "#%%\n"
    }
   }
  },
  {
   "cell_type": "code",
   "execution_count": null,
   "outputs": [],
   "source": [
    "scenar_error_vals_noise, scenar_error_vals_no_noise = [], []\n",
    "\n",
    "noisy_scenar_ids = (5, 6)\n",
    "for scenar_id in noisy_scenar_ids:\n",
    "    scenar_df = scenar_g.get_group(scenar_id)\n",
    "    error_vals = scenar_df['mean'].values\n",
    "\n",
    "    if scenar_df[:1]['noise'].bool():\n",
    "        scenar_error_vals_noise.append(error_vals)\n",
    "    else:\n",
    "        scenar_error_vals_no_noise.append(error_vals)\n",
    "\n",
    "fig, (ax_1, ax_2) = plt.subplots(nrows=1, ncols=2, figsize=(8, 3), sharey='all')\n",
    "\n",
    "x_label = \"Reprojection error\" + create_subfig_id_label(\"a\")\n",
    "y_label = \"Number of test instances\"\n",
    "plot_error_vals_hist(\n",
    "    ax_1, scenar_error_vals_no_noise, x_label, y_label)\n",
    "x_label = \"Reprojection error\" + create_subfig_id_label(\"b\")\n",
    "plot_error_vals_hist(ax_2, scenar_error_vals_noise, x_label)\n",
    "\n",
    "fig.tight_layout()\n",
    "fig.savefig(\"../error_dist_plot_without_and_with_noise.pdf\", dpi=300)"
   ],
   "metadata": {
    "collapsed": false,
    "pycharm": {
     "name": "#%%\n"
    }
   }
  },
  {
   "cell_type": "code",
   "execution_count": null,
   "outputs": [],
   "source": [
    "tab_df = scenar_g.head(1).iloc[:, [0] + list(range(2, 8))][\n",
    "    ['shape', 'n_groups', 'transl', 'rot', 'scale', 'noise']].replace(\n",
    "    True, 'yes').replace(False, 'no')\n",
    "print(tab_df.to_latex(index=False))"
   ],
   "metadata": {
    "collapsed": false,
    "pycharm": {
     "name": "#%%\n"
    }
   }
  },
  {
   "cell_type": "code",
   "execution_count": null,
   "outputs": [],
   "source": [
    "for scenario_ids_group in scenario_ids_groups:\n",
    "    for scenar_id in scenario_ids_group:\n",
    "        scenar_df = scenar_g.get_group(scenar_id)\n",
    "        improvements = calc_relative_improvements(scenar_df)\n",
    "        try:\n",
    "            top_improvements = improvements[:, 5]\n",
    "            print(f'{scenar_id} --> {np.median(top_improvements)}')\n",
    "        except:\n",
    "            pass"
   ],
   "metadata": {
    "collapsed": false,
    "pycharm": {
     "name": "#%%\n"
    }
   }
  },
  {
   "cell_type": "code",
   "execution_count": null,
   "outputs": [],
   "source": [
    "from pathlib import Path\n",
    "from stat_plot import plot_heat_map\n",
    "\n",
    "data_dir = Path(\"../../homography_experiments/\")\n",
    "error_grids = np.asarray([\n",
    "    np.load(str(error_grid_file))\n",
    "    for error_grid_file in data_dir.iterdir()\n",
    "    if \"error_grid\" in error_grid_file.name])\n",
    "points_groups_orig = np.load(str(data_dir / \"points_groups_orig.npy\"))\n",
    "\n",
    "img_shape = config.IMG_HEIGHT, config.IMG_WIDTH\n",
    "\n",
    "def plot_heatmap_for_marker(\n",
    "        marker_idx, suffix=\"\", colorbar_range=None, x_label_suffix=\"\"):\n",
    "    error_grid = error_grids[marker_idx].reshape(img_shape)\n",
    "\n",
    "    color = ['gray'] * len(points_groups_orig)\n",
    "    color[marker_idx] = 'black'\n",
    "\n",
    "    fig = plot_heat_map(\n",
    "        error_grid, points_groups_orig, color=color,\n",
    "        colorbar_range=colorbar_range, x_label_suffix=x_label_suffix)\n",
    "    fig.savefig(\n",
    "        str(data_dir / f\"heat_map_marker_{suffix}.pdf\"), dpi=300)\n",
    "    fig.clf()\n",
    "\n",
    "mean_errors = np.mean(error_grids, axis=1)\n",
    "baseline = np.mean(mean_errors)\n",
    "marker_indices = np.argsort(mean_errors)\n",
    "best_marker_idx, worst_marker_idx = marker_indices[0], marker_indices[-1]\n",
    "print(best_marker_idx, worst_marker_idx)\n",
    "\n",
    "min_error = min(\n",
    "    error_grids[best_marker_idx].min(), error_grids[worst_marker_idx].min())\n",
    "max_error = max(\n",
    "    error_grids[best_marker_idx].max(), error_grids[worst_marker_idx].max())\n",
    "colorbar_range = (min_error, max_error)\n",
    "\n",
    "plot_heatmap_for_marker(\n",
    "    best_marker_idx, \"best\", colorbar_range, create_subfig_id_label(\"a\"))\n",
    "plot_heatmap_for_marker(\n",
    "    worst_marker_idx, \"worst\", colorbar_range, create_subfig_id_label(\"b\"))\n"
   ],
   "metadata": {
    "collapsed": false,
    "pycharm": {
     "name": "#%%\n"
    }
   }
  },
  {
   "cell_type": "code",
   "execution_count": null,
   "outputs": [],
   "source": [
    "import os\n",
    "\n",
    "plot_file_names_map = {\n",
    "    \"improvement_plot_1_2_3_4.pdf\": \"affine_transform_influence.pdf\",\n",
    "    \"improvement_plot_5_6.pdf\": \"noise_influence.pdf\",\n",
    "    \"improvement_plot_6_7_8_9.pdf\": \"shape_influence.pdf\",\n",
    "    \"improvement_plot_10.pdf\": \"n_markers_3_influence.pdf\",\n",
    "    \"improvement_plot_11.pdf\": \"n_markers_5_influence.pdf\",\n",
    "    \"improvement_plot_12.pdf\": \"n_markers_7_influence.pdf\",\n",
    "    \"improvement_plot_13.pdf\": \"n_markers_9_influence.pdf\",\n",
    "}\n",
    "\n",
    "dir_path = \"..\"\n",
    "for src_name, dst_name in plot_file_names_map.items():\n",
    "    src_file_path = os.path.join(dir_path, src_name)\n",
    "    dst_file_path = os.path.join(dir_path, dst_name)\n",
    "    os.rename(src_file_path, dst_file_path)"
   ],
   "metadata": {
    "collapsed": false,
    "pycharm": {
     "name": "#%%\n"
    }
   }
  }
 ],
 "metadata": {
  "kernelspec": {
   "display_name": "Python 3",
   "language": "python",
   "name": "python3"
  },
  "language_info": {
   "codemirror_mode": {
    "name": "ipython",
    "version": 2
   },
   "file_extension": ".py",
   "mimetype": "text/x-python",
   "name": "python",
   "nbconvert_exporter": "python",
   "pygments_lexer": "ipython2",
   "version": "2.7.6"
  }
 },
 "nbformat": 4,
 "nbformat_minor": 0
}