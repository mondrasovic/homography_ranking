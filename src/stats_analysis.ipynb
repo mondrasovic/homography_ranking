{
 "cells": [
  {
   "cell_type": "code",
   "execution_count": 1,
   "metadata": {
    "collapsed": true
   },
   "outputs": [],
   "source": [
    "# -*- coding: utf-8 -*-\n",
    "#\n",
    "# Author: Milan Ondrasovic <milan.ondrasovic@gmail.com>\n",
    "#\n",
    "# MIT License\n",
    "#\n",
    "# Copyright (c) 2021 Milan Ondrašovič\n",
    "#\n",
    "# Permission is hereby granted, free of charge, to any person obtaining a copy\n",
    "# of this software and associated documentation files (the \"Software\"), to deal\n",
    "# in the Software without restriction, including without limitation the rights\n",
    "# to use, copy, modify, merge, publish, distribute, sublicense, and/or sell\n",
    "# copies of the Software, and to permit persons to whom the Software is\n",
    "# furnished to do so, subject to the following conditions:\n",
    "#\n",
    "# The above copyright notice and this permission notice shall be included in all\n",
    "# copies or substantial portions of the Software.\n",
    "#\n",
    "# THE SOFTWARE IS PROVIDED \"AS IS\", WITHOUT WARRANTY OF ANY KIND, EXPRESS OR\n",
    "# IMPLIED, INCLUDING BUT NOT LIMITED TO THE WARRANTIES OF MERCHANTABILITY,\n",
    "# FITNESS FOR A PARTICULAR PURPOSE AND NONINFRINGEMENT. IN NO EVENT SHALL THE\n",
    "# AUTHORS OR COPYRIGHT HOLDERS BE LIABLE FOR ANY CLAIM, DAMAGES OR OTHER\n",
    "# LIABILITY, WHETHER IN AN ACTION OF CONTRACT, TORT OR OTHERWISE, ARISING FROM,\n",
    "# OUT OF OR IN CONNECTION WITH THE SOFTWARE OR THE USE OR OTHER DEALINGS IN THE\n",
    "# SOFTWARE.\n",
    "\n",
    "import pickle\n",
    "import numpy as np\n",
    "import pandas as pd\n",
    "import matplotlib.pyplot as plt\n",
    "\n",
    "import config\n",
    "\n",
    "from stat_plot import plot_improvement_over_baseline_boxes, plot_error_vals_hist\n",
    "\n",
    "plt.style.use('tableau-colorblind10')\n",
    "pd.set_option('display.float_format', lambda x: '%.5f' % x)\n",
    "plt.rcParams['font.family'] = 'Times New Roman'\n",
    "plt.rcParams['font.size'] = 8\n",
    "\n",
    "%matplotlib inline\n",
    "\n",
    "%load_ext autoreload\n",
    "%autoreload 2"
   ]
  },
  {
   "cell_type": "code",
   "execution_count": 2,
   "outputs": [
    {
     "name": "stdout",
     "output_type": "stream",
     "text": [
      "(78000, 16)\n"
     ]
    },
    {
     "data": {
      "text/plain": "       scenar_id  inst_id      shape  n_groups  transl    rot  scale  noise  \\\n22169          1     4335  rectangle         6   False  False  False  False   \n22170          1     4335  rectangle         6   False  False  False  False   \n22171          1     4335  rectangle         6   False  False  False  False   \n\n       time_elapsed_ns  group_idx     min     max    mean     med     std  \\\n22169                0          0 0.00000 0.00062 0.00018 0.00011 0.00017   \n22170                0          1 0.00000 0.00062 0.00012 0.00008 0.00012   \n22171                0          2 0.00000 0.00182 0.00041 0.00032 0.00036   \n\n                    order  \n22169  (1, 0, 4, 2, 5, 3)  \n22170  (1, 0, 4, 2, 5, 3)  \n22171  (1, 0, 4, 2, 5, 3)  ",
      "text/html": "<div>\n<style scoped>\n    .dataframe tbody tr th:only-of-type {\n        vertical-align: middle;\n    }\n\n    .dataframe tbody tr th {\n        vertical-align: top;\n    }\n\n    .dataframe thead th {\n        text-align: right;\n    }\n</style>\n<table border=\"1\" class=\"dataframe\">\n  <thead>\n    <tr style=\"text-align: right;\">\n      <th></th>\n      <th>scenar_id</th>\n      <th>inst_id</th>\n      <th>shape</th>\n      <th>n_groups</th>\n      <th>transl</th>\n      <th>rot</th>\n      <th>scale</th>\n      <th>noise</th>\n      <th>time_elapsed_ns</th>\n      <th>group_idx</th>\n      <th>min</th>\n      <th>max</th>\n      <th>mean</th>\n      <th>med</th>\n      <th>std</th>\n      <th>order</th>\n    </tr>\n  </thead>\n  <tbody>\n    <tr>\n      <th>22169</th>\n      <td>1</td>\n      <td>4335</td>\n      <td>rectangle</td>\n      <td>6</td>\n      <td>False</td>\n      <td>False</td>\n      <td>False</td>\n      <td>False</td>\n      <td>0</td>\n      <td>0</td>\n      <td>0.00000</td>\n      <td>0.00062</td>\n      <td>0.00018</td>\n      <td>0.00011</td>\n      <td>0.00017</td>\n      <td>(1, 0, 4, 2, 5, 3)</td>\n    </tr>\n    <tr>\n      <th>22170</th>\n      <td>1</td>\n      <td>4335</td>\n      <td>rectangle</td>\n      <td>6</td>\n      <td>False</td>\n      <td>False</td>\n      <td>False</td>\n      <td>False</td>\n      <td>0</td>\n      <td>1</td>\n      <td>0.00000</td>\n      <td>0.00062</td>\n      <td>0.00012</td>\n      <td>0.00008</td>\n      <td>0.00012</td>\n      <td>(1, 0, 4, 2, 5, 3)</td>\n    </tr>\n    <tr>\n      <th>22171</th>\n      <td>1</td>\n      <td>4335</td>\n      <td>rectangle</td>\n      <td>6</td>\n      <td>False</td>\n      <td>False</td>\n      <td>False</td>\n      <td>False</td>\n      <td>0</td>\n      <td>2</td>\n      <td>0.00000</td>\n      <td>0.00182</td>\n      <td>0.00041</td>\n      <td>0.00032</td>\n      <td>0.00036</td>\n      <td>(1, 0, 4, 2, 5, 3)</td>\n    </tr>\n  </tbody>\n</table>\n</div>"
     },
     "execution_count": 2,
     "metadata": {},
     "output_type": "execute_result"
    }
   ],
   "source": [
    "with open(config.RESULTS_FILE_PATH, 'rb') as in_file:\n",
    "    experiment_spec_df, single_homography_df, homography_order_df =\\\n",
    "        pickle.load(in_file)\n",
    "\n",
    "df = experiment_spec_df.merge(\n",
    "    single_homography_df, on='inst_id'\n",
    ").merge(homography_order_df, on='inst_id').sort_values(\n",
    "    ['scenar_id', 'inst_id', 'group_idx']\n",
    ")\n",
    "print(df.shape)\n",
    "df.head(3)"
   ],
   "metadata": {
    "collapsed": false,
    "pycharm": {
     "name": "#%%\n"
    }
   }
  },
  {
   "cell_type": "code",
   "execution_count": 3,
   "outputs": [],
   "source": [
    "def calc_improvements_over_baseline(scenar_df, stats_col='mean'):\n",
    "    n_groups = scenar_df['n_groups'].values[0]\n",
    "\n",
    "    error_vals = scenar_df[stats_col].values.reshape(-1, n_groups)\n",
    "    baselines = error_vals.mean(axis=1)[..., None]\n",
    "    groups_orders = np.asarray(\n",
    "        [*scenar_df.groupby('inst_id').head(1)['order'].values]\n",
    "    )\n",
    "    row_idx = np.arange(0, len(error_vals))\n",
    "    error_vals_ordered = error_vals[row_idx[..., None], groups_orders]\n",
    "    absolute_improvements = baselines - error_vals_ordered\n",
    "    relative_improvements = absolute_improvements / baselines\n",
    "\n",
    "    return absolute_improvements, relative_improvements\n",
    "\n",
    "def build_scenario_label(scenar_df_row):\n",
    "    assert len(scenar_df_row) == 1\n",
    "\n",
    "    affine_parts = []\n",
    "    if scenar_df_row['rot'].bool():\n",
    "        affine_parts.append('rotation')\n",
    "    if scenar_df_row['transl'].bool():\n",
    "        affine_parts.append('translation')\n",
    "    if scenar_df_row['scale'].bool():\n",
    "        affine_parts.append('scale')\n",
    "\n",
    "    label = ', '.join(affine_parts) if affine_parts else 'no affine'\n",
    "    if scenar_df_row['noise'].bool():\n",
    "        label += f' + noise'\n",
    "\n",
    "    used_shape = scenar_df_row['shape'].values[0]\n",
    "    if used_shape == 'rectangle':  # A dirty hack!\n",
    "        used_shape = 'square'\n",
    "    label += f' | {used_shape}'\n",
    "\n",
    "    return label"
   ],
   "metadata": {
    "collapsed": false,
    "pycharm": {
     "name": "#%%\n"
    }
   }
  },
  {
   "cell_type": "code",
   "execution_count": 4,
   "outputs": [
    {
     "data": {
      "text/plain": "       scenar_id      shape  n_groups  transl    rot  scale  noise\n22169          1  rectangle         6   False  False  False  False\n28169          2  rectangle         6    True  False  False  False\n34169          3  rectangle         6   False   True  False  False\n40169          4  rectangle         6   False  False   True  False\n9167           5  rectangle         6    True   True   True  False\n13163          6  rectangle         6    True   True   True   True\n19163          7  5-polygon         6    True   True   True   True\n51167          8  7-polygon         6    True   True   True   True\n0              9  9-polygon         6    True   True   True   True\n1992          10  rectangle         3    True   True   True   True\n4992          11  rectangle         5    True   True   True   True\n62000         12  rectangle         7    True   True   True   True\n69000         13  rectangle         9    True   True   True   True",
      "text/html": "<div>\n<style scoped>\n    .dataframe tbody tr th:only-of-type {\n        vertical-align: middle;\n    }\n\n    .dataframe tbody tr th {\n        vertical-align: top;\n    }\n\n    .dataframe thead th {\n        text-align: right;\n    }\n</style>\n<table border=\"1\" class=\"dataframe\">\n  <thead>\n    <tr style=\"text-align: right;\">\n      <th></th>\n      <th>scenar_id</th>\n      <th>shape</th>\n      <th>n_groups</th>\n      <th>transl</th>\n      <th>rot</th>\n      <th>scale</th>\n      <th>noise</th>\n    </tr>\n  </thead>\n  <tbody>\n    <tr>\n      <th>22169</th>\n      <td>1</td>\n      <td>rectangle</td>\n      <td>6</td>\n      <td>False</td>\n      <td>False</td>\n      <td>False</td>\n      <td>False</td>\n    </tr>\n    <tr>\n      <th>28169</th>\n      <td>2</td>\n      <td>rectangle</td>\n      <td>6</td>\n      <td>True</td>\n      <td>False</td>\n      <td>False</td>\n      <td>False</td>\n    </tr>\n    <tr>\n      <th>34169</th>\n      <td>3</td>\n      <td>rectangle</td>\n      <td>6</td>\n      <td>False</td>\n      <td>True</td>\n      <td>False</td>\n      <td>False</td>\n    </tr>\n    <tr>\n      <th>40169</th>\n      <td>4</td>\n      <td>rectangle</td>\n      <td>6</td>\n      <td>False</td>\n      <td>False</td>\n      <td>True</td>\n      <td>False</td>\n    </tr>\n    <tr>\n      <th>9167</th>\n      <td>5</td>\n      <td>rectangle</td>\n      <td>6</td>\n      <td>True</td>\n      <td>True</td>\n      <td>True</td>\n      <td>False</td>\n    </tr>\n    <tr>\n      <th>13163</th>\n      <td>6</td>\n      <td>rectangle</td>\n      <td>6</td>\n      <td>True</td>\n      <td>True</td>\n      <td>True</td>\n      <td>True</td>\n    </tr>\n    <tr>\n      <th>19163</th>\n      <td>7</td>\n      <td>5-polygon</td>\n      <td>6</td>\n      <td>True</td>\n      <td>True</td>\n      <td>True</td>\n      <td>True</td>\n    </tr>\n    <tr>\n      <th>51167</th>\n      <td>8</td>\n      <td>7-polygon</td>\n      <td>6</td>\n      <td>True</td>\n      <td>True</td>\n      <td>True</td>\n      <td>True</td>\n    </tr>\n    <tr>\n      <th>0</th>\n      <td>9</td>\n      <td>9-polygon</td>\n      <td>6</td>\n      <td>True</td>\n      <td>True</td>\n      <td>True</td>\n      <td>True</td>\n    </tr>\n    <tr>\n      <th>1992</th>\n      <td>10</td>\n      <td>rectangle</td>\n      <td>3</td>\n      <td>True</td>\n      <td>True</td>\n      <td>True</td>\n      <td>True</td>\n    </tr>\n    <tr>\n      <th>4992</th>\n      <td>11</td>\n      <td>rectangle</td>\n      <td>5</td>\n      <td>True</td>\n      <td>True</td>\n      <td>True</td>\n      <td>True</td>\n    </tr>\n    <tr>\n      <th>62000</th>\n      <td>12</td>\n      <td>rectangle</td>\n      <td>7</td>\n      <td>True</td>\n      <td>True</td>\n      <td>True</td>\n      <td>True</td>\n    </tr>\n    <tr>\n      <th>69000</th>\n      <td>13</td>\n      <td>rectangle</td>\n      <td>9</td>\n      <td>True</td>\n      <td>True</td>\n      <td>True</td>\n      <td>True</td>\n    </tr>\n  </tbody>\n</table>\n</div>"
     },
     "execution_count": 4,
     "metadata": {},
     "output_type": "execute_result"
    }
   ],
   "source": [
    "scenar_g = df.groupby('scenar_id')\n",
    "scenar_g.head(1).iloc[:, [0] + list(range(2, 8))]"
   ],
   "metadata": {
    "collapsed": false,
    "pycharm": {
     "name": "#%%\n"
    }
   }
  },
  {
   "cell_type": "code",
   "execution_count": 5,
   "outputs": [],
   "source": [
    "# These groups should be checked manually (for now) in the given table whether\n",
    "# the chosen scenarios that should be evaluated together correspond to the\n",
    "# correct ones.\n",
    "\n",
    "scenario_ids_groups = (\n",
    "    (1, 2, 3, 4), # Change in affine transformations only.\n",
    "    (5, 6), # Change in noise only (all affine transformations included).\n",
    "    (6, 7, 8, 9), # Change in shape only (all affine transformations + noise)\n",
    "    (10,),\n",
    "    (11,),\n",
    "    (12,),\n",
    "    (13,),\n",
    ")"
   ],
   "metadata": {
    "collapsed": false,
    "pycharm": {
     "name": "#%%\n"
    }
   }
  },
  {
   "cell_type": "code",
   "execution_count": 15,
   "outputs": [
    {
     "name": "stdout",
     "output_type": "stream",
     "text": [
      "********************************************************************************\n",
      "RELATIVE IMPROVEMENTS\n",
      "NO AFFINE | SQUARE --- TRANSLATION | SQUARE --- ROTATION | SQUARE --- SCALE | SQUARE, MARKERS NO.: 6\n",
      "\tmedian: 64.77%, 62.10%, 66.38%, 65.35%\n",
      "\tmean: 60.62%, 58.81%, 63.47%, 59.31%\n",
      "\tstdev: 20.09%, 20.81%, 18.32%, 23.24%\n",
      "ABSOLUTE IMPROVEMENTS\n",
      "NO AFFINE | SQUARE --- TRANSLATION | SQUARE --- ROTATION | SQUARE --- SCALE | SQUARE, MARKERS NO.: 6\n",
      "\tmedian: 0.00029, 0.00029, 0.00042, 0.00025\n",
      "\tmean: 0.00030, 0.00030, 0.00043, 0.00026\n",
      "\tstdev: 0.00014, 0.00014, 0.00019, 0.00014\n",
      "********************************************************************************\n",
      "RELATIVE IMPROVEMENTS\n",
      "ROTATION, TRANSLATION, SCALE | SQUARE --- ROTATION, TRANSLATION, SCALE + NOISE | SQUARE, MARKERS NO.: 6\n",
      "\tmedian: 67.69%, 63.76%\n",
      "\tmean: 63.57%, 59.25%\n",
      "\tstdev: 20.99%, 21.97%\n",
      "ABSOLUTE IMPROVEMENTS\n",
      "ROTATION, TRANSLATION, SCALE | SQUARE --- ROTATION, TRANSLATION, SCALE + NOISE | SQUARE, MARKERS NO.: 6\n",
      "\tmedian: 0.00034, 22.51769\n",
      "\tmean: 0.00037, 26.05250\n",
      "\tstdev: 0.00020, 55.51997\n",
      "********************************************************************************\n",
      "RELATIVE IMPROVEMENTS\n",
      "ROTATION, TRANSLATION, SCALE + NOISE | SQUARE --- ROTATION, TRANSLATION, SCALE + NOISE | 5-POLYGON --- ROTATION, TRANSLATION, SCALE + NOISE | 7-POLYGON --- ROTATION, TRANSLATION, SCALE + NOISE | 9-POLYGON, MARKERS NO.: 6\n",
      "\tmedian: 63.76%, 74.35%, 70.68%, 69.70%\n",
      "\tmean: 59.25%, 70.63%, 66.21%, 65.89%\n",
      "\tstdev: 21.97%, 23.16%, 22.30%, 21.91%\n",
      "ABSOLUTE IMPROVEMENTS\n",
      "ROTATION, TRANSLATION, SCALE + NOISE | SQUARE --- ROTATION, TRANSLATION, SCALE + NOISE | 5-POLYGON --- ROTATION, TRANSLATION, SCALE + NOISE | 7-POLYGON --- ROTATION, TRANSLATION, SCALE + NOISE | 9-POLYGON, MARKERS NO.: 6\n",
      "\tmedian: 22.51769, 70.50374, 48.75493, 46.83492\n",
      "\tmean: 26.05250, 359.05564, 132.90861, 116.63440\n",
      "\tstdev: 55.51997, 720.76911, 361.31837, 363.71945\n",
      "********************************************************************************\n",
      "RELATIVE IMPROVEMENTS\n",
      "ROTATION, TRANSLATION, SCALE + NOISE | SQUARE, MARKERS NO.: 3\n",
      "\tmedian: 46.19%\n",
      "\tmean: 41.28%\n",
      "\tstdev: 31.27%\n",
      "ABSOLUTE IMPROVEMENTS\n",
      "ROTATION, TRANSLATION, SCALE + NOISE | SQUARE, MARKERS NO.: 3\n",
      "\tmedian: 14.50452\n",
      "\tmean: 17.31154\n",
      "\tstdev: 19.19548\n",
      "********************************************************************************\n",
      "RELATIVE IMPROVEMENTS\n",
      "ROTATION, TRANSLATION, SCALE + NOISE | SQUARE, MARKERS NO.: 5\n",
      "\tmedian: 60.15%\n",
      "\tmean: 55.49%\n",
      "\tstdev: 24.89%\n",
      "ABSOLUTE IMPROVEMENTS\n",
      "ROTATION, TRANSLATION, SCALE + NOISE | SQUARE, MARKERS NO.: 5\n",
      "\tmedian: 20.74730\n",
      "\tmean: 23.47181\n",
      "\tstdev: 17.56806\n",
      "********************************************************************************\n",
      "RELATIVE IMPROVEMENTS\n",
      "ROTATION, TRANSLATION, SCALE + NOISE | SQUARE, MARKERS NO.: 7\n",
      "\tmedian: 66.96%\n",
      "\tmean: 62.31%\n",
      "\tstdev: 19.99%\n",
      "ABSOLUTE IMPROVEMENTS\n",
      "ROTATION, TRANSLATION, SCALE + NOISE | SQUARE, MARKERS NO.: 7\n",
      "\tmedian: 23.36838\n",
      "\tmean: 25.11255\n",
      "\tstdev: 13.38829\n",
      "********************************************************************************\n",
      "RELATIVE IMPROVEMENTS\n",
      "ROTATION, TRANSLATION, SCALE + NOISE | SQUARE, MARKERS NO.: 9\n",
      "\tmedian: 70.27%\n",
      "\tmean: 66.36%\n",
      "\tstdev: 18.33%\n",
      "ABSOLUTE IMPROVEMENTS\n",
      "ROTATION, TRANSLATION, SCALE + NOISE | SQUARE, MARKERS NO.: 9\n",
      "\tmedian: 25.39848\n",
      "\tmean: 26.97568\n",
      "\tstdev: 12.68054\n"
     ]
    },
    {
     "data": {
      "text/plain": "<Figure size 360x216 with 1 Axes>",
      "image/png": "[encoded data removed]"
     },
     "metadata": {
      "needs_background": "light"
     },
     "output_type": "display_data"
    },
    {
     "data": {
      "text/plain": "<Figure size 360x216 with 1 Axes>",
      "image/png": "[encoded data removed]"
     },
     "metadata": {
      "needs_background": "light"
     },
     "output_type": "display_data"
    },
    {
     "data": {
      "text/plain": "<Figure size 360x216 with 1 Axes>",
      "image/png": "[encoded data removed]"
     },
     "metadata": {
      "needs_background": "light"
     },
     "output_type": "display_data"
    },
    {
     "data": {
      "text/plain": "<Figure size 360x216 with 1 Axes>",
      "image/png": "[encoded data removed]"
     },
     "metadata": {
      "needs_background": "light"
     },
     "output_type": "display_data"
    },
    {
     "data": {
      "text/plain": "<Figure size 360x216 with 1 Axes>",
      "image/png": "[encoded data removed]"
     },
     "metadata": {
      "needs_background": "light"
     },
     "output_type": "display_data"
    },
    {
     "data": {
      "text/plain": "<Figure size 360x216 with 1 Axes>",
      "image/png": "[encoded data removed]"
     },
     "metadata": {
      "needs_background": "light"
     },
     "output_type": "display_data"
    },
    {
     "data": {
      "text/plain": "<Figure size 360x216 with 1 Axes>",
      "image/png": "[encoded data removed]"
     },
     "metadata": {
      "needs_background": "light"
     },
     "output_type": "display_data"
    }
   ],
   "source": [
    "def create_subfig_id_label(text):\n",
    "    return \"\\n\" + rf\"$\\bf{{({text})}}$\"\n",
    "\n",
    "# Subfigure suffixes for each scenario group.\n",
    "x_label_suffixes = (\n",
    "    \"\",\n",
    "    \"\",\n",
    "    \"\",\n",
    "    create_subfig_id_label(\"a\"),\n",
    "    create_subfig_id_label(\"b\"),\n",
    "    create_subfig_id_label(\"c\"),\n",
    "    create_subfig_id_label(\"d\")\n",
    ")\n",
    "\n",
    "# x_label_suffixes = tuple([\"\" for _ in range(len(scenario_ids_groups))])\n",
    "\n",
    "ax_y_lim = [-2.4, 1]\n",
    "ax_y_limits = (\n",
    "    None,\n",
    "    None,\n",
    "    None,\n",
    "    ax_y_lim,\n",
    "    ax_y_lim,\n",
    "    ax_y_lim,\n",
    "    ax_y_lim\n",
    ")\n",
    "ax_y_limits = tuple(ax_y_limits * len(scenario_ids_groups))\n",
    "\n",
    "def print_abs_vals(vals):\n",
    "    return \", \".join(map(lambda x: f\"{x:.5f}\", vals))\n",
    "\n",
    "def print_rel_vals(vals):\n",
    "    return \", \".join(map(lambda x: f\"{x:.2%}\", vals))\n",
    "\n",
    "assert len(scenario_ids_groups) == len(x_label_suffixes)\n",
    "\n",
    "for scenario_ids_group, x_label_suffix, ax_y_lim in zip(\n",
    "        scenario_ids_groups, x_label_suffixes, ax_y_limits\n",
    "):\n",
    "    abs_improvements = []\n",
    "    rel_improvements = []\n",
    "    labels = []\n",
    "\n",
    "    for scenar_id in scenario_ids_group:\n",
    "        scenar_df = scenar_g.get_group(scenar_id)\n",
    "        abs_improvement, rel_improvement = calc_improvements_over_baseline(\n",
    "            scenar_df\n",
    "        )\n",
    "        abs_improvements.append(abs_improvement)\n",
    "        rel_improvements.append(rel_improvement)\n",
    "        labels.append(build_scenario_label(scenar_df[:1]))\n",
    "\n",
    "    def print_improvement_stats(improvements, val_printer):\n",
    "        tmp = np.asarray(improvements)\n",
    "        print(f\"{' --- '.join(labels)}, markers no.: {tmp.shape[-1]}\".upper())\n",
    "        print(f\"\\tmedian: {val_printer(np.median(tmp, axis=1)[:, 0])}\")\n",
    "        print(f\"\\tmean: {val_printer(np.mean(tmp, axis=1)[:, 0])}\")\n",
    "        print(f\"\\tstdev: {val_printer(np.std(tmp, axis=1)[:, 0])}\")\n",
    "\n",
    "    print(\"*\" * 80)\n",
    "    print(\"RELATIVE IMPROVEMENTS\")\n",
    "    print_improvement_stats(rel_improvements, print_rel_vals)\n",
    "    print(\"ABSOLUTE IMPROVEMENTS\")\n",
    "    print_improvement_stats(abs_improvements, print_abs_vals)\n",
    "\n",
    "    improvements = np.transpose(np.asarray(rel_improvements), axes=(2, 0, 1))\n",
    "    fig = plot_improvement_over_baseline_boxes(\n",
    "        improvements, labels, x_label_suffix, ax_y_lim\n",
    "    )\n",
    "    scenar_ids_label = \"_\".join(map(str, scenario_ids_group))\n",
    "    fig.savefig(f\"../improvement_plot_{scenar_ids_label}.pdf\", dpi=300)"
   ],
   "metadata": {
    "collapsed": false,
    "pycharm": {
     "name": "#%%\n"
    }
   }
  },
  {
   "cell_type": "code",
   "execution_count": 8,
   "outputs": [
    {
     "data": {
      "text/plain": "<Figure size 576x216 with 2 Axes>",
      "image/png": "[encoded data removed]"
     },
     "metadata": {
      "needs_background": "light"
     },
     "output_type": "display_data"
    }
   ],
   "source": [
    "scenar_error_vals_noise, scenar_error_vals_no_noise = [], []\n",
    "\n",
    "noisy_scenar_ids = (5, 6)\n",
    "for scenar_id in noisy_scenar_ids:\n",
    "    scenar_df = scenar_g.get_group(scenar_id)\n",
    "    error_vals = scenar_df['mean'].values\n",
    "\n",
    "    if scenar_df[:1]['noise'].bool():\n",
    "        scenar_error_vals_noise.append(error_vals)\n",
    "    else:\n",
    "        scenar_error_vals_no_noise.append(error_vals)\n",
    "\n",
    "fig, (ax_1, ax_2) = plt.subplots(nrows=1, ncols=2, figsize=(8, 3), sharey='all')\n",
    "\n",
    "x_label = \"Reprojection error\" + create_subfig_id_label(\"a\")\n",
    "y_label = \"Number of test instances\"\n",
    "plot_error_vals_hist(\n",
    "    ax_1, scenar_error_vals_no_noise, x_label, y_label\n",
    ")\n",
    "x_label = \"Reprojection error\" + create_subfig_id_label(\"b\")\n",
    "plot_error_vals_hist(ax_2, scenar_error_vals_noise, x_label)\n",
    "\n",
    "fig.tight_layout()\n",
    "fig.savefig(\"../error_dist_plot_without_and_with_noise.pdf\", dpi=300)"
   ],
   "metadata": {
    "collapsed": false,
    "pycharm": {
     "name": "#%%\n"
    }
   }
  },
  {
   "cell_type": "code",
   "execution_count": null,
   "outputs": [],
   "source": [
    "tab_df = scenar_g.head(1).iloc[:, [0] + list(range(2, 8))][\n",
    "    ['shape', 'n_groups', 'transl', 'rot', 'scale', 'noise']].replace(\n",
    "    True, 'yes'\n",
    ").replace(False, 'no')\n",
    "print(tab_df.to_latex(index=False))"
   ],
   "metadata": {
    "collapsed": false,
    "pycharm": {
     "name": "#%%\n"
    }
   }
  },
  {
   "cell_type": "code",
   "execution_count": null,
   "outputs": [],
   "source": [
    "for scenario_ids_group in scenario_ids_groups:\n",
    "    for scenar_id in scenario_ids_group:\n",
    "        scenar_df = scenar_g.get_group(scenar_id)\n",
    "        improvements = calc_relative_improvements(scenar_df)\n",
    "        try:\n",
    "            top_improvements = improvements[:, 5]\n",
    "            print(f'{scenar_id} --> {np.median(top_improvements)}')\n",
    "        except:\n",
    "            pass"
   ],
   "metadata": {
    "collapsed": false,
    "pycharm": {
     "name": "#%%\n"
    }
   }
  },
  {
   "cell_type": "code",
   "execution_count": 9,
   "outputs": [
    {
     "ename": "FileNotFoundError",
     "evalue": "[Errno 2] No such file or directory: '..\\\\..\\\\homography_experiments\\\\points_groups_orig.npy'",
     "output_type": "error",
     "traceback": [
      "\u001B[1;31m---------------------------------------------------------------------------\u001B[0m",
      "\u001B[1;31mFileNotFoundError\u001B[0m                         Traceback (most recent call last)",
      "\u001B[1;32m<ipython-input-9-a2a54726efcb>\u001B[0m in \u001B[0;36m<module>\u001B[1;34m\u001B[0m\n\u001B[0;32m      7\u001B[0m     \u001B[1;32mfor\u001B[0m \u001B[0merror_grid_file\u001B[0m \u001B[1;32min\u001B[0m \u001B[0mdata_dir\u001B[0m\u001B[1;33m.\u001B[0m\u001B[0miterdir\u001B[0m\u001B[1;33m(\u001B[0m\u001B[1;33m)\u001B[0m\u001B[1;33m\u001B[0m\u001B[1;33m\u001B[0m\u001B[0m\n\u001B[0;32m      8\u001B[0m     if \"error_grid\" in error_grid_file.name])\n\u001B[1;32m----> 9\u001B[1;33m \u001B[0mpoints_groups_orig\u001B[0m \u001B[1;33m=\u001B[0m \u001B[0mnp\u001B[0m\u001B[1;33m.\u001B[0m\u001B[0mload\u001B[0m\u001B[1;33m(\u001B[0m\u001B[0mstr\u001B[0m\u001B[1;33m(\u001B[0m\u001B[0mdata_dir\u001B[0m \u001B[1;33m/\u001B[0m \u001B[1;34m\"points_groups_orig.npy\"\u001B[0m\u001B[1;33m)\u001B[0m\u001B[1;33m)\u001B[0m\u001B[1;33m\u001B[0m\u001B[1;33m\u001B[0m\u001B[0m\n\u001B[0m\u001B[0;32m     10\u001B[0m \u001B[1;33m\u001B[0m\u001B[0m\n\u001B[0;32m     11\u001B[0m \u001B[0mimg_shape\u001B[0m \u001B[1;33m=\u001B[0m \u001B[0mconfig\u001B[0m\u001B[1;33m.\u001B[0m\u001B[0mIMG_HEIGHT\u001B[0m\u001B[1;33m,\u001B[0m \u001B[0mconfig\u001B[0m\u001B[1;33m.\u001B[0m\u001B[0mIMG_WIDTH\u001B[0m\u001B[1;33m\u001B[0m\u001B[1;33m\u001B[0m\u001B[0m\n",
      "\u001B[1;32me:\\venvs\\general\\lib\\site-packages\\numpy\\lib\\npyio.py\u001B[0m in \u001B[0;36mload\u001B[1;34m(file, mmap_mode, allow_pickle, fix_imports, encoding)\u001B[0m\n\u001B[0;32m    414\u001B[0m             \u001B[0mown_fid\u001B[0m \u001B[1;33m=\u001B[0m \u001B[1;32mFalse\u001B[0m\u001B[1;33m\u001B[0m\u001B[1;33m\u001B[0m\u001B[0m\n\u001B[0;32m    415\u001B[0m         \u001B[1;32melse\u001B[0m\u001B[1;33m:\u001B[0m\u001B[1;33m\u001B[0m\u001B[1;33m\u001B[0m\u001B[0m\n\u001B[1;32m--> 416\u001B[1;33m             \u001B[0mfid\u001B[0m \u001B[1;33m=\u001B[0m \u001B[0mstack\u001B[0m\u001B[1;33m.\u001B[0m\u001B[0menter_context\u001B[0m\u001B[1;33m(\u001B[0m\u001B[0mopen\u001B[0m\u001B[1;33m(\u001B[0m\u001B[0mos_fspath\u001B[0m\u001B[1;33m(\u001B[0m\u001B[0mfile\u001B[0m\u001B[1;33m)\u001B[0m\u001B[1;33m,\u001B[0m \u001B[1;34m\"rb\"\u001B[0m\u001B[1;33m)\u001B[0m\u001B[1;33m)\u001B[0m\u001B[1;33m\u001B[0m\u001B[1;33m\u001B[0m\u001B[0m\n\u001B[0m\u001B[0;32m    417\u001B[0m             \u001B[0mown_fid\u001B[0m \u001B[1;33m=\u001B[0m \u001B[1;32mTrue\u001B[0m\u001B[1;33m\u001B[0m\u001B[1;33m\u001B[0m\u001B[0m\n\u001B[0;32m    418\u001B[0m \u001B[1;33m\u001B[0m\u001B[0m\n",
      "\u001B[1;31mFileNotFoundError\u001B[0m: [Errno 2] No such file or directory: '..\\\\..\\\\homography_experiments\\\\points_groups_orig.npy'"
     ]
    }
   ],
   "source": [
    "from pathlib import Path\n",
    "from stat_plot import plot_heat_map\n",
    "\n",
    "data_dir = Path(\"../../homography_experiments/\")\n",
    "error_grids = np.asarray([\n",
    "    np.load(str(error_grid_file))\n",
    "    for error_grid_file in data_dir.iterdir()\n",
    "    if \"error_grid\" in error_grid_file.name])\n",
    "points_groups_orig = np.load(str(data_dir / \"points_groups_orig.npy\"))\n",
    "\n",
    "img_shape = config.IMG_HEIGHT, config.IMG_WIDTH\n",
    "\n",
    "def plot_heatmap_for_marker(\n",
    "        marker_idx, suffix=\"\", colorbar_range=None, x_label_suffix=\"\"\n",
    "):\n",
    "    error_grid = error_grids[marker_idx].reshape(img_shape)\n",
    "\n",
    "    color = ['gray'] * len(points_groups_orig)\n",
    "    color[marker_idx] = 'black'\n",
    "\n",
    "    fig = plot_heat_map(\n",
    "        error_grid, points_groups_orig, color=color,\n",
    "        colorbar_range=colorbar_range, x_label_suffix=x_label_suffix\n",
    "    )\n",
    "    fig.savefig(\n",
    "        str(data_dir / f\"heat_map_marker_{suffix}.pdf\"), dpi=300\n",
    "    )\n",
    "    fig.clf()\n",
    "\n",
    "mean_errors = np.mean(error_grids, axis=1)\n",
    "baseline = np.mean(mean_errors)\n",
    "marker_indices = np.argsort(mean_errors)\n",
    "best_marker_idx, worst_marker_idx = marker_indices[0], marker_indices[-1]\n",
    "print(best_marker_idx, worst_marker_idx)\n",
    "\n",
    "min_error = min(\n",
    "    error_grids[best_marker_idx].min(), error_grids[worst_marker_idx].min()\n",
    ")\n",
    "max_error = max(\n",
    "    error_grids[best_marker_idx].max(), error_grids[worst_marker_idx].max()\n",
    ")\n",
    "colorbar_range = (min_error, max_error)\n",
    "\n",
    "plot_heatmap_for_marker(\n",
    "    best_marker_idx, \"best\", colorbar_range, create_subfig_id_label(\"a\")\n",
    ")\n",
    "plot_heatmap_for_marker(\n",
    "    worst_marker_idx, \"worst\", colorbar_range, create_subfig_id_label(\"b\")\n",
    ")\n"
   ],
   "metadata": {
    "collapsed": false,
    "pycharm": {
     "name": "#%%\n"
    }
   }
  },
  {
   "cell_type": "code",
   "execution_count": 16,
   "outputs": [],
   "source": [
    "import os\n",
    "\n",
    "plot_file_names_map = {\n",
    "    \"improvement_plot_1_2_3_4.pdf\": \"affine_transform_influence.pdf\",\n",
    "    \"improvement_plot_5_6.pdf\": \"noise_influence.pdf\",\n",
    "    \"improvement_plot_6_7_8_9.pdf\": \"shape_influence.pdf\",\n",
    "    \"improvement_plot_10.pdf\": \"n_markers_3_influence.pdf\",\n",
    "    \"improvement_plot_11.pdf\": \"n_markers_5_influence.pdf\",\n",
    "    \"improvement_plot_12.pdf\": \"n_markers_7_influence.pdf\",\n",
    "    \"improvement_plot_13.pdf\": \"n_markers_9_influence.pdf\",\n",
    "}\n",
    "\n",
    "dir_path = \"..\"\n",
    "for src_name, dst_name in plot_file_names_map.items():\n",
    "    src_file_path = os.path.join(dir_path, src_name)\n",
    "    dst_file_path = os.path.join(dir_path, dst_name)\n",
    "    os.rename(src_file_path, dst_file_path)"
   ],
   "metadata": {
    "collapsed": false,
    "pycharm": {
     "name": "#%%\n"
    }
   }
  },
  {
   "cell_type": "code",
   "execution_count": 55,
   "outputs": [
    {
     "name": "stdout",
     "output_type": "stream",
     "text": [
      "Mean execution time: 15.684.\n",
      "Stdev of execution time: 1.028.\n"
     ]
    }
   ],
   "source": [
    "elapsed_times = df[df['time_elapsed_ns'] > 0]['time_elapsed_ns'] / (10 ** 6)\n",
    "mean_time = np.mean(elapsed_times)\n",
    "std_dev_time = np.std(elapsed_times)\n",
    "print(f\"Mean execution time: {mean_time:.3f}.\")\n",
    "print(f\"Stdev of execution time: {std_dev_time:.3f}.\")"
   ],
   "metadata": {
    "collapsed": false,
    "pycharm": {
     "name": "#%%\n"
    }
   }
  },
  {
   "cell_type": "code",
   "execution_count": 44,
   "outputs": [
    {
     "data": {
      "text/plain": "15683866.660308074"
     },
     "execution_count": 44,
     "metadata": {},
     "output_type": "execute_result"
    }
   ],
   "source": [],
   "metadata": {
    "collapsed": false,
    "pycharm": {
     "name": "#%%\n"
    }
   }
  }
 ],
 "metadata": {
  "kernelspec": {
   "display_name": "Python 3",
   "language": "python",
   "name": "python3"
  },
  "language_info": {
   "codemirror_mode": {
    "name": "ipython",
    "version": 2
   },
   "file_extension": ".py",
   "mimetype": "text/x-python",
   "name": "python",
   "nbconvert_exporter": "python",
   "pygments_lexer": "ipython2",
   "version": "2.7.6"
  }
 },
 "nbformat": 4,
 "nbformat_minor": 0
}