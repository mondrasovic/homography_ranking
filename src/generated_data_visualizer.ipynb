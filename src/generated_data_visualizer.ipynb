{
 "cells": [
  {
   "cell_type": "code",
   "execution_count": null,
   "metadata": {
    "collapsed": true
   },
   "outputs": [],
   "source": [
    "#!/usr/bin/env python\n",
    "# -*- coding: utf-8 -*-\n",
    "#\n",
    "# Author: Milan Ondrasovic <milan.ondrasovic@gmail.com>\n",
    "#\n",
    "# MIT License\n",
    "#\n",
    "# Copyright (c) 2021 Milan Ondrašovič\n",
    "#\n",
    "# Permission is hereby granted, free of charge, to any person obtaining a copy\n",
    "# of this software and associated documentation files (the \"Software\"), to deal\n",
    "# in the Software without restriction, including without limitation the rights\n",
    "# to use, copy, modify, merge, publish, distribute, sublicense, and/or sell\n",
    "# copies of the Software, and to permit persons to whom the Software is\n",
    "# furnished to do so, subject to the following conditions:\n",
    "#\n",
    "# The above copyright notice and this permission notice shall be included in all\n",
    "# copies or substantial portions of the Software.\n",
    "#\n",
    "# THE SOFTWARE IS PROVIDED \"AS IS\", WITHOUT WARRANTY OF ANY KIND, EXPRESS OR\n",
    "# IMPLIED, INCLUDING BUT NOT LIMITED TO THE WARRANTIES OF MERCHANTABILITY,\n",
    "# FITNESS FOR A PARTICULAR PURPOSE AND NONINFRINGEMENT. IN NO EVENT SHALL THE\n",
    "# AUTHORS OR COPYRIGHT HOLDERS BE LIABLE FOR ANY CLAIM, DAMAGES OR OTHER\n",
    "# LIABILITY, WHETHER IN AN ACTION OF CONTRACT, TORT OR OTHERWISE, ARISING FROM,\n",
    "# OUT OF OR IN CONNECTION WITH THE SOFTWARE OR THE USE OR OTHER DEALINGS IN THE\n",
    "# SOFTWARE.\n",
    "\n",
    "import cv2 as cv\n",
    "import numpy as np\n",
    "\n",
    "import matplotlib.pyplot as plt\n",
    "import matplotlib.patches as patches\n",
    "import matplotlib.colors as colors\n",
    "\n",
    "from IPython.display import display\n",
    "\n",
    "%load_ext autoreload\n",
    "%autoreload 2"
   ]
  },
  {
   "cell_type": "code",
   "execution_count": null,
   "outputs": [],
   "source": [
    "def image_show(img):\n",
    "    win_name = 'preview'\n",
    "    cv.imshow(win_name, img)\n",
    "    cv.waitKey(0)\n",
    "    cv.destroyWindow(win_name)\n",
    "\n",
    "def draw_vertices(img, vertices, color, thickness=3):\n",
    "    cv.polylines(\n",
    "        img, vertices.round().astype(np.int), True, color, thickness,\n",
    "        cv.LINE_AA\n",
    "    )\n",
    "\n",
    "def draw_points_groups_labels(img, points_groups, color, thickness=3):\n",
    "    centroids = np.mean(points_groups, axis=1).round().astype(np.int)\n",
    "    for i, centroid in enumerate(centroids, 1):\n",
    "        cv.putText(\n",
    "            img, str(i), tuple(centroid), cv.FONT_HERSHEY_SIMPLEX, fontScale=1,\n",
    "            color=color, thickness=thickness\n",
    "        )\n",
    "\n",
    "def np_load(dir_path, file_name):\n",
    "    return np.load(str(dir_path / f'{file_name}.npy'))"
   ],
   "metadata": {
    "collapsed": false,
    "pycharm": {
     "name": "#%%\n"
    }
   }
  },
  {
   "cell_type": "code",
   "execution_count": null,
   "outputs": [],
   "source": [
    "class ImageIllustrator:\n",
    "    def __init__(self, shape, color='white'):\n",
    "        image = np.ones((*shape, 3)) * np.asarray(colors.to_rgb(color))\n",
    "        self.fig, self.ax = plt.subplots()\n",
    "        self.ax.imshow(image)\n",
    "        self.ax.set_xticklabels([])\n",
    "        self.ax.set_yticklabels([])\n",
    "        self.ax.set_axis_off()\n",
    "\n",
    "    def draw_boxes(self, boxes, line_width=3, color='black', alpha=1):\n",
    "        draw_params = dict(\n",
    "            closed=True, linewidth=line_width, antialiased=True, color=color,\n",
    "            alpha=alpha\n",
    "        )\n",
    "        for box in boxes:\n",
    "            polygon = patches.Polygon(box, **draw_params)\n",
    "            self.ax.add_patch(polygon)\n",
    "\n",
    "    def save(self, file_path, dpi=300):\n",
    "        self.fig.savefig(file_path, dpi=dpi)\n",
    "\n",
    "    def show(self):\n",
    "        display(self.fig)\n",
    "\n",
    "# illustr_orig = ImageIllustrator(img_shape_orig, 'silver')\n",
    "# illustr_orig.draw_boxes(points_groups_orig, color='midnightblue')\n",
    "# illustr_orig.save(\"../markers_orig.pdf\")\n",
    "#\n",
    "# shift = np.array([10, 10])\n",
    "# illustr_warped = ImageIllustrator(tuple(shift * 2 + img_shape_warped))\n",
    "# illustr_warped.draw_boxes(img_corners_warped[None, ...] + shift, color='silver')\n",
    "# illustr_warped.draw_boxes(points_groups_warped + shift, color='midnightblue')\n",
    "# illustr_warped.save(\"../markers_warped.pdf\")"
   ],
   "metadata": {
    "collapsed": false,
    "pycharm": {
     "name": "#%%\n"
    }
   }
  },
  {
   "cell_type": "code",
   "execution_count": null,
   "outputs": [],
   "source": [
    "# group_index = 0\n",
    "# homography, _ = cv.findHomography(\n",
    "#     points_groups_warped[group_index], points_groups_orig[group_index])\n",
    "# img_rectified = cv.warpPerspective(\n",
    "#     img_warped, homography, (img_shape[1], img_shape[0]))\n",
    "# image_show(img_rectified)"
   ],
   "metadata": {
    "collapsed": false,
    "pycharm": {
     "name": "#%%\n"
    }
   }
  }
 ],
 "metadata": {
  "kernelspec": {
   "name": "python3",
   "language": "python",
   "display_name": "Python 3"
  },
  "language_info": {
   "codemirror_mode": {
    "name": "ipython",
    "version": 2
   },
   "file_extension": ".py",
   "mimetype": "text/x-python",
   "name": "python",
   "nbconvert_exporter": "python",
   "pygments_lexer": "ipython2",
   "version": "2.7.6"
  }
 },
 "nbformat": 4,
 "nbformat_minor": 0
}